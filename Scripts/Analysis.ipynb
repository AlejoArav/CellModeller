{
 "cells": [
  {
   "cell_type": "code",
   "execution_count": null,
   "metadata": {},
   "outputs": [],
   "source": [
    "import numpy as np\n",
    "import CellModeller\n",
    "from CellModeller.Simulator import Simulator "
   ]
  },
  {
   "cell_type": "code",
   "execution_count": null,
   "metadata": {},
   "outputs": [],
   "source": [
    "model = '/Users/timrudge/cellmodeller/Examples/ex1_simpleGrowth.py'\n",
    "sim = Simulator(model, 0.025, clPlatformNum=0, clDeviceNum=0, saveOutput=True)"
   ]
  },
  {
   "cell_type": "code",
   "execution_count": null,
   "metadata": {},
   "outputs": [],
   "source": [
    "# Run the simulation to ~500 cells\n",
    "while len(sim.cellStates)<500:\n",
    "    sim.step()"
   ]
  },
  {
   "cell_type": "code",
   "execution_count": null,
   "metadata": {},
   "outputs": [],
   "source": [
    "print sim.phys.n_cells\n",
    "print sim.stepNum\n",
    "\n",
    "# We can get the data directly from the running simulation\n",
    "cs = sim.cellStates\n",
    "\n",
    "# or from a saved pickle file\n",
    "import cPickle\n",
    "data = cPickle.load(open('/Users/timrudge/cellmodeller/data/ex1_simpleGrowth-17-11-17-14-00/step-00400.pickle','rb'))\n",
    "cs = data['cellStates']\n",
    "\n",
    "# Make some convenient data arrays from cell properties\n",
    "lengths = np.array([cell.length for (id,cell) in cs.iteritems()])\n",
    "pos = np.array([cell.pos for (id,cell) in cs.iteritems()])\n",
    "norm = np.array([cell.dir for (id,cell) in cs.iteritems()])"
   ]
  },
  {
   "cell_type": "code",
   "execution_count": null,
   "metadata": {},
   "outputs": [],
   "source": [
    "import matplotlib\n",
    "from matplotlib import pyplot as plt\n",
    "%matplotlib inline\n",
    "import numpy as np\n",
    "\n",
    "# Plot the position and orientation of each cell\n",
    "plt.figure(figsize=(8,8))\n",
    "plt.plot(pos[:,0], pos[:,1], 'o')\n",
    "plt.quiver(pos[:,0], pos[:,1], norm[:,0], norm[:,1])"
   ]
  },
  {
   "cell_type": "code",
   "execution_count": null,
   "metadata": {},
   "outputs": [],
   "source": [
    "# Plot histograms of some cell properties\n",
    "\n",
    "# Length\n",
    "plt.subplot(121)\n",
    "plt.title('Length')\n",
    "plt.hist(lengths)\n",
    "\n",
    "# Distance from origin\n",
    "plt.subplot(122)\n",
    "plt.title('Position')\n",
    "plt.hist(np.sqrt(pos[:,0]**2+pos[:,1]**2))"
   ]
  },
  {
   "cell_type": "code",
   "execution_count": null,
   "metadata": {},
   "outputs": [],
   "source": [
    "# Compute the cell density in regular bins as a weighted 2d histogram\n",
    "\n",
    "fig = plt.figure()\n",
    "H, xedges, yedges = np.histogram2d(pos[:,0], pos[:,1], weights=lengths, bins=10)\n",
    "plt.imshow(H, interpolation='nearest', origin='low', extent=[xedges[0], xedges[-1], yedges[0], yedges[-1]])\n",
    "plt.colorbar()"
   ]
  },
  {
   "cell_type": "code",
   "execution_count": null,
   "metadata": {},
   "outputs": [],
   "source": [
    "# We can also examine the details of the running simulation,\n",
    "# e.g. the residual overlaps between cells (error)\n",
    "\n",
    "# Get the physics solver\n",
    "phys = sim.phys\n",
    "# Update the contact information\n",
    "phys.find_contacts()\n",
    "# Overlap per cell\n",
    "d = 0.5*phys.ct_dists_dev[0:phys.n_cells,:].get()\n",
    "\n",
    "# Min and max of overlap\n",
    "print np.min(d.ravel()), np.max(d.ravel())"
   ]
  },
  {
   "cell_type": "code",
   "execution_count": null,
   "metadata": {},
   "outputs": [],
   "source": []
  }
 ],
 "metadata": {
  "kernelspec": {
   "display_name": "Python 2",
   "language": "python",
   "name": "python2"
  },
  "language_info": {
   "codemirror_mode": {
    "name": "ipython",
    "version": 2
   },
   "file_extension": ".py",
   "mimetype": "text/x-python",
   "name": "python",
   "nbconvert_exporter": "python",
   "pygments_lexer": "ipython2",
   "version": "2.7.14"
  }
 },
 "nbformat": 4,
 "nbformat_minor": 2
}
